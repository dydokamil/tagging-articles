{
 "cells": [
  {
   "cell_type": "code",
   "execution_count": 1,
   "metadata": {
    "collapsed": true
   },
   "outputs": [],
   "source": [
    "import os\n",
    "import pandas as pd\n",
    "\n",
    "ARTICLES_PATH = '/media/hdd/training_data/transfer-learning-sed/'"
   ]
  },
  {
   "cell_type": "code",
   "execution_count": 2,
   "metadata": {
    "collapsed": true
   },
   "outputs": [],
   "source": [
    "def load_data(path):\n",
    "    csvs = os.listdir(path)\n",
    "    csvs.remove('sample_submission.csv')\n",
    "    csvs.remove('test.csv')\n",
    "    articles_paths = [os.path.join(path, csv) for csv in csvs]\n",
    "    X_titles = []\n",
    "    X_contents = []\n",
    "    y = []\n",
    "    for article_path in articles_paths:\n",
    "        new_articles = pd.read_csv(article_path)\n",
    "        X_titles.extend(list(new_articles['title'].copy()))\n",
    "        X_contents.extend(list(new_articles['content'].copy()))\n",
    "        y.extend(list(new_articles['tags'].copy()))\n",
    "\n",
    "    return X_titles, X_contents, y"
   ]
  },
  {
   "cell_type": "code",
   "execution_count": 3,
   "metadata": {},
   "outputs": [
    {
     "name": "stdout",
     "output_type": "stream",
     "text": [
      "Titles:\n",
      "\n",
      "How can I get chewy chocolate chip cookies?\n",
      "How should I cook bacon in an oven?\n",
      "What is the difference between white and brown eggs?\n",
      "Contents:\n",
      "\n",
      "<p>My chocolate chips cookies are always too crisp. How can I get chewy cookies, like those of Starbucks?</p>\n",
      "\n",
      "<hr>\n",
      "\n",
      "<p>Thank you to everyone who has answered. So far the tip that had the biggest impact was to chill and rest the dough, however I also increased the brown sugar ratio and increased a bit the butter. Also adding maple syrup helped. </p>\n",
      "******\n",
      "<p>I've heard of people cooking bacon in an oven by laying the strips out on a cookie sheet. When using this method, how long should I cook the bacon for, and at what temperature?</p>\n",
      "******\n",
      "<p>I always use brown extra large eggs, but I can't honestly say why I do this other than habit at this point. Are there any distinct advantages or disadvantages like flavor, shelf life, etc?</p>\n",
      "\n",
      "Tags:\n",
      "\n",
      "baking cookies texture; oven cooking-time bacon; eggs\n"
     ]
    }
   ],
   "source": [
    "X1, X2, y = load_data(ARTICLES_PATH)\n",
    "print('Titles:\\n')\n",
    "print('\\n'.join(X1[:3]))\n",
    "print('Contents:\\n')\n",
    "print('******\\n'.join(X2[:3]))\n",
    "print('Tags:\\n')\n",
    "print('; '.join(y[:3]))"
   ]
  },
  {
   "cell_type": "code",
   "execution_count": 4,
   "metadata": {},
   "outputs": [
    {
     "data": {
      "text/plain": [
       "'<p>My chocolate chips cookies are always too crisp. How can I get chewy cookies, like those of Starbucks?</p>\\n\\n<hr>\\n\\n<p>Thank you to everyone who has answered. So far the tip that had the biggest impact was to chill and rest the dough, however I also increased the brown sugar ratio and increased a bit the butter. Also adding maple syrup helped. </p>\\n'"
      ]
     },
     "execution_count": 4,
     "metadata": {},
     "output_type": "execute_result"
    }
   ],
   "source": [
    "X2[0]"
   ]
  },
  {
   "cell_type": "markdown",
   "metadata": {},
   "source": [
    "# Cleanup"
   ]
  },
  {
   "cell_type": "code",
   "execution_count": 5,
   "metadata": {
    "collapsed": true
   },
   "outputs": [],
   "source": [
    "import re\n",
    "html_tags = '<[^>]*>'"
   ]
  },
  {
   "cell_type": "code",
   "execution_count": 6,
   "metadata": {
    "collapsed": true
   },
   "outputs": [],
   "source": [
    "# remove html tags\n",
    "X2 = [re.sub(html_tags, \"\", content) for content in X2]"
   ]
  },
  {
   "cell_type": "code",
   "execution_count": 7,
   "metadata": {},
   "outputs": [
    {
     "data": {
      "text/plain": [
       "'My chocolate chips cookies are always too crisp. How can I get chewy cookies, like those of Starbucks?\\n\\n\\n\\nThank you to everyone who has answered. So far the tip that had the biggest impact was to chill and rest the dough, however I also increased the brown sugar ratio and increased a bit the butter. Also adding maple syrup helped. \\n'"
      ]
     },
     "execution_count": 7,
     "metadata": {},
     "output_type": "execute_result"
    }
   ],
   "source": [
    "X2[0]"
   ]
  },
  {
   "cell_type": "code",
   "execution_count": 8,
   "metadata": {
    "collapsed": true
   },
   "outputs": [],
   "source": [
    "# remove new line\n",
    "X2 = [re.sub('\\\\n', \" \", content) for content in X2]"
   ]
  },
  {
   "cell_type": "code",
   "execution_count": 9,
   "metadata": {},
   "outputs": [
    {
     "data": {
      "text/plain": [
       "'My chocolate chips cookies are always too crisp. How can I get chewy cookies, like those of Starbucks?    Thank you to everyone who has answered. So far the tip that had the biggest impact was to chill and rest the dough, however I also increased the brown sugar ratio and increased a bit the butter. Also adding maple syrup helped.  '"
      ]
     },
     "execution_count": 9,
     "metadata": {},
     "output_type": "execute_result"
    }
   ],
   "source": [
    "X2[0]"
   ]
  },
  {
   "cell_type": "code",
   "execution_count": 10,
   "metadata": {
    "collapsed": true
   },
   "outputs": [],
   "source": [
    "# remove numbers, commas, dots, etc.\n",
    "X2 = [re.sub(\"[^a-zA-Z]\", \" \", content) for content in X2]"
   ]
  },
  {
   "cell_type": "code",
   "execution_count": 11,
   "metadata": {},
   "outputs": [
    {
     "data": {
      "text/plain": [
       "'My chocolate chips cookies are always too crisp  How can I get chewy cookies  like those of Starbucks     Thank you to everyone who has answered  So far the tip that had the biggest impact was to chill and rest the dough  however I also increased the brown sugar ratio and increased a bit the butter  Also adding maple syrup helped   '"
      ]
     },
     "execution_count": 11,
     "metadata": {},
     "output_type": "execute_result"
    }
   ],
   "source": [
    "X2[0]"
   ]
  },
  {
   "cell_type": "code",
   "execution_count": 12,
   "metadata": {
    "collapsed": true
   },
   "outputs": [],
   "source": [
    "# remove excess whitespaces\n",
    "X2 = [re.sub(\"\\s+\",\" \", content) for content in X2]"
   ]
  },
  {
   "cell_type": "code",
   "execution_count": 13,
   "metadata": {},
   "outputs": [
    {
     "data": {
      "text/plain": [
       "'My chocolate chips cookies are always too crisp How can I get chewy cookies like those of Starbucks Thank you to everyone who has answered So far the tip that had the biggest impact was to chill and rest the dough however I also increased the brown sugar ratio and increased a bit the butter Also adding maple syrup helped '"
      ]
     },
     "execution_count": 13,
     "metadata": {},
     "output_type": "execute_result"
    }
   ],
   "source": [
    "X2[0]"
   ]
  },
  {
   "cell_type": "code",
   "execution_count": 14,
   "metadata": {},
   "outputs": [
    {
     "name": "stdout",
     "output_type": "stream",
     "text": [
      "showing info https://raw.githubusercontent.com/nltk/nltk_data/gh-pages/index.xml\n"
     ]
    },
    {
     "data": {
      "text/plain": [
       "True"
      ]
     },
     "execution_count": 14,
     "metadata": {},
     "output_type": "execute_result"
    }
   ],
   "source": [
    "from nltk.corpus import stopwords"
   ]
  },
  {
   "cell_type": "markdown",
   "metadata": {},
   "source": [
    "# Stemming"
   ]
  },
  {
   "cell_type": "code",
   "execution_count": 15,
   "metadata": {
    "collapsed": true
   },
   "outputs": [],
   "source": [
    "from nltk.stem.snowball import SnowballStemmer"
   ]
  },
  {
   "cell_type": "code",
   "execution_count": 16,
   "metadata": {
    "collapsed": true
   },
   "outputs": [],
   "source": [
    "stemmer = SnowballStemmer('english')"
   ]
  },
  {
   "cell_type": "code",
   "execution_count": null,
   "metadata": {},
   "outputs": [],
   "source": [
    "X2 = [[stemmer.stem(word) for word in words.split(' ') if word is not ''] for words in X2]"
   ]
  },
  {
   "cell_type": "markdown",
   "metadata": {},
   "source": [
    "# Removing stopwords"
   ]
  },
  {
   "cell_type": "code",
   "execution_count": 45,
   "metadata": {
    "collapsed": true
   },
   "outputs": [],
   "source": [
    "stopwords = set(stopwords.words('english'))"
   ]
  },
  {
   "cell_type": "code",
   "execution_count": null,
   "metadata": {
    "collapsed": true
   },
   "outputs": [],
   "source": []
  }
 ],
 "metadata": {
  "kernelspec": {
   "display_name": "Python 3",
   "language": "python",
   "name": "python3"
  },
  "language_info": {
   "codemirror_mode": {
    "name": "ipython",
    "version": 3
   },
   "file_extension": ".py",
   "mimetype": "text/x-python",
   "name": "python",
   "nbconvert_exporter": "python",
   "pygments_lexer": "ipython3",
   "version": "3.6.2"
  }
 },
 "nbformat": 4,
 "nbformat_minor": 1
}
